{
 "cells": [
  {
   "cell_type": "code",
   "execution_count": 217,
   "id": "cccb7cfe",
   "metadata": {},
   "outputs": [],
   "source": [
    "import numpy as np\n",
    "import matplotlib.pyplot as plt\n",
    "import time\n"
   ]
  },
  {
   "cell_type": "code",
   "execution_count": 218,
   "id": "280c9324",
   "metadata": {},
   "outputs": [],
   "source": [
    "# def convert(imgs, labels, outfile, n):\n",
    "#     imgf = open(imgs, \"rb\")\n",
    "#     labelf = open(labels,\"rb\")\n",
    "#     csvf = open(outfile, \"w\")\n",
    "    \n",
    "#     imgf.read(16)\n",
    "#     labelf.read(8)\n",
    "#     images = []\n",
    "    \n",
    "#     for i in range(n):\n",
    "#         image = [ord(labelf.read(1))]\n",
    "#         for j in range(28*28):\n",
    "#             image.append(ord(imgf.read(1)))\n",
    "#         images.append(image)\n",
    "        \n",
    "#     for image in images:\n",
    "#         csvf.write(\",\".join(str(pix) for pix in image) + \"\\n\")\n",
    "#     imgf.close()\n",
    "#     labelf.close()\n",
    "#     csvf.close()\n"
   ]
  },
  {
   "cell_type": "code",
   "execution_count": 219,
   "id": "2ce296e4",
   "metadata": {},
   "outputs": [],
   "source": [
    "# mnist_train_x = r\"C:\\Users\\Hp\\Downloads\\train-images.idx3-ubyte\"\n",
    "# mnist_train_y = r\"C:\\Users\\Hp\\Downloads\\train-labels.idx1-ubyte\"\n",
    "# mnist_test_x =  r\"C:\\Users\\Hp\\Downloads\\t10k-images.idx3-ubyte\"\n",
    "# mnist_test_y = r\"C:\\Users\\Hp\\Downloads\\t10k-labels.idx1-ubyte\""
   ]
  },
  {
   "cell_type": "code",
   "execution_count": 220,
   "id": "39af3d78",
   "metadata": {},
   "outputs": [],
   "source": [
    "# convert(mnist_train_x, mnist_train_y, r\"C:\\Users\\Hp\\Downloads\\train.csv\", 60000)\n",
    "# convert(mnist_test_x, mnist_test_y,r\"C:\\Users\\Hp\\Downloads\\test.csv\", 10000)"
   ]
  },
  {
   "cell_type": "code",
   "execution_count": 221,
   "id": "9de5a861",
   "metadata": {},
   "outputs": [],
   "source": [
    "train = np.loadtxt(\"train.csv\", delimiter=\",\")"
   ]
  },
  {
   "cell_type": "code",
   "execution_count": 222,
   "id": "efe7850d",
   "metadata": {},
   "outputs": [
    {
     "data": {
      "text/plain": [
       "785"
      ]
     },
     "execution_count": 222,
     "metadata": {},
     "output_type": "execute_result"
    }
   ],
   "source": [
    "len(train[0])"
   ]
  },
  {
   "cell_type": "code",
   "execution_count": 223,
   "id": "afabb22e",
   "metadata": {},
   "outputs": [],
   "source": [
    "label=train[:,784:]"
   ]
  },
  {
   "cell_type": "code",
   "execution_count": 224,
   "id": "7659002d",
   "metadata": {},
   "outputs": [],
   "source": [
    "train1=train[:,:784]"
   ]
  },
  {
   "cell_type": "code",
   "execution_count": 225,
   "id": "4e049bdc",
   "metadata": {},
   "outputs": [
    {
     "data": {
      "text/plain": [
       "784"
      ]
     },
     "execution_count": 225,
     "metadata": {},
     "output_type": "execute_result"
    }
   ],
   "source": [
    "len(train1[0])"
   ]
  },
  {
   "cell_type": "code",
   "execution_count": 226,
   "id": "cf22e517",
   "metadata": {},
   "outputs": [
    {
     "data": {
      "text/plain": [
       "<matplotlib.image.AxesImage at 0x1e1bf4d7730>"
      ]
     },
     "execution_count": 226,
     "metadata": {},
     "output_type": "execute_result"
    },
    {
     "data": {
      "image/png": "[encoded data removed]",
      "text/plain": [
       "<Figure size 432x288 with 1 Axes>"
      ]
     },
     "metadata": {
      "needs_background": "light"
     },
     "output_type": "display_data"
    }
   ],
   "source": [
    "plt.imshow(train1[0].reshape(28, 28))"
   ]
  },
  {
   "cell_type": "code",
   "execution_count": 238,
   "id": "395921f6",
   "metadata": {},
   "outputs": [],
   "source": [
    "class DNN:\n",
    "\n",
    "    def __init__ (self,input_layer_size,hidden_layer_size,num_labels,X, y ):\n",
    "        self.input_layer_size = input_layer_size\n",
    "        self.hidden_layer_size = hidden_layer_size\n",
    "        self.num_labels=num_labels\n",
    "        self.X=X\n",
    "        self.y=y\n",
    "      \n",
    "        \n",
    "    def sigmoid(self,z):\n",
    "        return 1.0 / (1.0 + np.exp(-z))\n",
    "\n",
    "    def sigmoidGradient(self,z):\n",
    "        g = np.zeros(z.shape)\n",
    "        g = sigmoid(z) * (1 - sigmoid(z))\n",
    "        return g\n",
    "\n",
    "    def ReLU(self, Z, derivative = False):\n",
    "        if derivative:\n",
    "            return Z>0\n",
    "        return np.maximum(0,Z)\n",
    "\n",
    "    def softmax(self, x, derivative=False):\n",
    "        exps = np.exp(x-x.max())\n",
    "        if derivative:\n",
    "            return exps/np.sum(exps,axis=0)*(1-exps/np.sum(exps,axis=0))\n",
    "        return exps/np.sum(exps,axis=0)\n",
    "    \n",
    "    def predict(self,Theta1, Theta2, X):\n",
    "        # Useful values\n",
    "        m = X.shape[0]\n",
    "        num_labels = Theta2.shape[0]\n",
    "        # You need to return the following variables correctly\n",
    "        p = np.zeros(m)\n",
    "        h1 = sigmoid(np.dot(np.concatenate([np.ones((m, 1)), X], axis=1), Theta1.T))\n",
    "        h2 = sigmoid(np.dot(np.concatenate([np.ones((m, 1)), h1], axis=1), Theta2.T))\n",
    "        p = np.argmax(h2, axis=1)\n",
    "        return p\n",
    "    \n",
    "    def randInitializeWeights(self,L_in, L_out, epsilon_init=0.12):\n",
    "        W = np.zeros((L_out, 1 + L_in))\n",
    "        W = np.random.rand(L_out, 1 + L_in) * 2 * epsilon_init - epsilon_init\n",
    "        return W  \n",
    "    \n",
    "    def weight(self):\n",
    "        initial_Theta1 = randInitializeWeights(self.input_layer_size, hidden_layer_size)\n",
    "        initial_Theta2 = randInitializeWeights(hidden_layer_size, num_labels)\n",
    "\n",
    "        # Unroll parameters\n",
    "        initial_nn_params = np.concatenate([initial_Theta1.ravel(), initial_Theta2.ravel()], axis=0)\n",
    "        return initial_nn_params\n",
    "    \n",
    "    def Back_propogation(self,nn_params,input_layer_size,hidden_layer_size,num_labels,X, y,lambda_):\n",
    "        \n",
    "\n",
    "    \n",
    "        Theta1 = np.reshape(nn_params[:hidden_layer_size * (input_layer_size + 1)],\n",
    "                        (hidden_layer_size, (input_layer_size + 1))) # 25 x 401\n",
    "\n",
    "        Theta2 = np.reshape(nn_params[(hidden_layer_size * (input_layer_size + 1)):],\n",
    "                        (num_labels, (hidden_layer_size + 1))) \n",
    "        m = y.size\n",
    "        a1 = np.concatenate([np.ones((m, 1)), X], axis=1) \n",
    "    \n",
    "        z2 = np.dot(a1, Theta1.T)\n",
    "        a2 = sigmoid(z2)\n",
    "\n",
    "        a2 = np.concatenate([np.ones((m, 1)), a2], axis=1) \n",
    "        \n",
    "        z3 = np.dot(a2, Theta2.T) \n",
    "        a3 = sigmoid(z3)  \n",
    "        \n",
    "        y_matrix = y.reshape(-1)\n",
    "#         print(y_matrix)\n",
    "#         print(num_labels)\n",
    "        y_matrix = np.eye(num_labels)[y_matrix.astype(int)]\n",
    "            \n",
    "\n",
    "        J = (-1/m) * (np.sum(y_matrix * np.log(a3) + (1-y_matrix) * np.log(1-a3)))\n",
    "    \n",
    "    \n",
    "        Reg = (lambda_/(2*m)) * (np.sum(np.square(Theta1[:, 1:])) + np.sum(np.square(Theta2[:, 1:])))\n",
    "        J = J + Reg\n",
    "    \n",
    "        # Part 2: Backpropagation\n",
    "\n",
    "        # Implementing the vectorized approach\n",
    "        # Step 1\n",
    "        # Comes from the forward propagation process(Part 1)\n",
    "    \n",
    "        # Step 2\n",
    "        d3 = a3 - y_matrix  # 5000 x 10\n",
    "        \n",
    "\n",
    "        d2 = np.dot(d3, Theta2[:, 1:]) * sigmoidGradient(z2)  # 5000 x 25\n",
    "  \n",
    "        Delta1 = np.dot(d2.T, a1)  # 25 x 401\n",
    "        Delta2 = np.dot(d3.T, a2)  # 10 x 26\n",
    "        \n",
    "        # Step 5\n",
    "        Theta2_grad = (1/m) * Delta2\n",
    "        Theta1_grad = (1/m) * Delta1\n",
    "    \n",
    " \n",
    "        Theta2_grad[:, 1:] = Theta2_grad[:, 1:] + (lambda_/m) * Theta2[:, 1:]\n",
    "        Theta1_grad[:, 1:] = Theta1_grad[:, 1:] + (lambda_/m) * Theta1[:, 1:]\n",
    "        \n",
    "        # ================================================================\n",
    "        # Unroll gradients\n",
    "        # grad = np.concatenate([Theta1_grad.ravel(order=order), Theta2_grad.ravel(order=order)])\n",
    "        grad = np.concatenate([Theta1_grad.ravel(), Theta2_grad.ravel()])\n",
    "\n",
    "        return J, grad\n",
    "    \n",
    "    def train(self,X,y):\n",
    "        \n",
    "        from scipy import optimize\n",
    "        options= {'maxiter': 2}\n",
    "        initial_nn_params=self.weight()\n",
    "        #  You should also try different values of lambda\n",
    "        lambda_ = 1\n",
    "        self.X=X\n",
    "        self.y=y\n",
    "        # Create \"short hand\" for the cost function to be minimized\n",
    "        costFunction = lambda p:self.Back_propogation(p, input_layer_size,\n",
    "                                        hidden_layer_size,\n",
    "                                        num_labels,X,y, lambda_)\n",
    "\n",
    "        # Now, costFunction is a function that takes in only one argument\n",
    "        # (the neural network parameters)\n",
    "        res = optimize.minimize(costFunction,\n",
    "                        initial_nn_params,\n",
    "                        jac=True,\n",
    "                        method='TNC',\n",
    "                        options=options)\n",
    "\n",
    "    # get the solution of the optimization\n",
    "        nn_params = res.x\n",
    "        \n",
    "    # Obtain Theta1 and Theta2 back from nn_params\n",
    "        Theta1 = np.reshape(nn_params[:hidden_layer_size * (input_layer_size + 1)],\n",
    "                    (hidden_layer_size, (input_layer_size + 1)))\n",
    "\n",
    "        Theta2 = np.reshape(nn_params[(hidden_layer_size * (input_layer_size + 1)):],\n",
    "                    (num_labels, (hidden_layer_size + 1)))\n",
    "        \n",
    "        pred = predict(Theta1, Theta2, X)\n",
    "        # print(pred)\n",
    "        print('Training Set Accuracy: %f' % (np.mean(pred == y) * 100))\n",
    "        \n",
    "        return Theta1,Theta2\n",
    "    \n",
    "\n",
    "\n",
    "\n",
    "    "
   ]
  },
  {
   "cell_type": "code",
   "execution_count": 239,
   "id": "ab0c2858",
   "metadata": {},
   "outputs": [],
   "source": [
    "input_layer_size  = 784 \n",
    "hidden_layer_size = 25 \n",
    "num_labels = 10    \n",
    "x=DNN(input_layer_size,hidden_layer_size,num_labels,train1,label)"
   ]
  },
  {
   "cell_type": "code",
   "execution_count": 240,
   "id": "d8953f17",
   "metadata": {},
   "outputs": [
    {
     "name": "stderr",
     "output_type": "stream",
     "text": [
      "C:\\Users\\Hp\\AppData\\Local\\Temp\\ipykernel_3152\\2831633526.py:2: RuntimeWarning: overflow encountered in exp\n",
      "  return 1.0 / (1.0 + np.exp(-z))\n"
     ]
    },
    {
     "name": "stdout",
     "output_type": "stream",
     "text": [
      "Training Set Accuracy: 100.000000\n"
     ]
    }
   ],
   "source": [
    "theta1,theta2=x.train(train1,label)"
   ]
  },
  {
   "cell_type": "code",
   "execution_count": 230,
   "id": "cfe4457a",
   "metadata": {},
   "outputs": [],
   "source": [
    "test = np.loadtxt(\"test.csv\", delimiter=\",\")"
   ]
  },
  {
   "cell_type": "code",
   "execution_count": 241,
   "id": "ff67dc3b",
   "metadata": {},
   "outputs": [],
   "source": [
    "labels_test=test[:,784:]"
   ]
  },
  {
   "cell_type": "code",
   "execution_count": 242,
   "id": "5f9bdd96",
   "metadata": {},
   "outputs": [],
   "source": [
    "data_test=test[:,:784]"
   ]
  },
  {
   "cell_type": "code",
   "execution_count": 243,
   "id": "82459bc9",
   "metadata": {},
   "outputs": [
    {
     "name": "stderr",
     "output_type": "stream",
     "text": [
      "C:\\Users\\Hp\\AppData\\Local\\Temp\\ipykernel_3152\\2831633526.py:2: RuntimeWarning: overflow encountered in exp\n",
      "  return 1.0 / (1.0 + np.exp(-z))\n"
     ]
    }
   ],
   "source": [
    "p=x.predict(theta1,theta2,data_test)"
   ]
  },
  {
   "cell_type": "code",
   "execution_count": 244,
   "id": "8593287f",
   "metadata": {},
   "outputs": [
    {
     "name": "stdout",
     "output_type": "stream",
     "text": [
      "Training Set Accuracy: 100.000000\n"
     ]
    }
   ],
   "source": [
    "print('Training Set Accuracy: %f' % (np.mean(p == labels_test) * 100))"
   ]
  }
 ],
 "metadata": {
  "kernelspec": {
   "display_name": "Python 3 (ipykernel)",
   "language": "python",
   "name": "python3"
  },
  "language_info": {
   "codemirror_mode": {
    "name": "ipython",
    "version": 3
   },
   "file_extension": ".py",
   "mimetype": "text/x-python",
   "name": "python",
   "nbconvert_exporter": "python",
   "pygments_lexer": "ipython3",
   "version": "3.9.12"
  }
 },
 "nbformat": 4,
 "nbformat_minor": 5
}
