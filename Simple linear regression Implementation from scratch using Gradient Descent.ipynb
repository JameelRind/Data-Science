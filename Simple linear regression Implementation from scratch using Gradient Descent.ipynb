{
  "nbformat": 4,
  "nbformat_minor": 0,
  "metadata": {
    "colab": {
      "name": "SLR-1.ipynb",
      "provenance": []
    },
    "kernelspec": {
      "name": "python3",
      "display_name": "Python 3"
    },
    "language_info": {
      "name": "python"
    }
  },
  "cells": [
    {
      "cell_type": "markdown",
      "source": [
        "#1. Initialise parameters"
      ],
      "metadata": {
        "id": "DMW0_fgBLAfM"
      }
    },
    {
      "cell_type": "code",
      "source": [
        "import numpy as np\n",
        "import pandas as pd\n",
        "import matplotlib.pyplot as plt\n",
        "import seaborn as sns\n",
        "%matplotlib inline"
      ],
      "metadata": {
        "id": "saBQeoDJLDJl"
      },
      "execution_count": 10,
      "outputs": []
    },
    {
      "cell_type": "code",
      "source": [
        "# Initialise the parameters\n",
        "def initialise(dimension):\n",
        "  w = np.zeros((dimension,1))\n",
        "  #print(w.shape)\n",
        "  return w"
      ],
      "metadata": {
        "id": "na9oREzmLTPI"
      },
      "execution_count": 12,
      "outputs": []
    },
    {
      "cell_type": "code",
      "source": [
        "initialise(5)"
      ],
      "metadata": {
        "colab": {
          "base_uri": "https://localhost:8080/"
        },
        "id": "W4ompS_cMIOf",
        "outputId": "05cb4c8c-896d-4c3e-8a7c-bb421291272f"
      },
      "execution_count": 14,
      "outputs": [
        {
          "output_type": "execute_result",
          "data": {
            "text/plain": [
              "array([[0.],\n",
              "       [0.],\n",
              "       [0.],\n",
              "       [0.],\n",
              "       [0.]])"
            ]
          },
          "metadata": {},
          "execution_count": 14
        }
      ]
    },
    {
      "cell_type": "markdown",
      "source": [
        "# Predicting"
      ],
      "metadata": {
        "id": "v6wNt4swMxWD"
      }
    },
    {
      "cell_type": "code",
      "source": [
        "def calc_y_pred(w, X):\n",
        "  # transpose of weight matrix & X -> dot product\n",
        "  # y = w*x\n",
        "  y_cap = np.dot(w.T,X)\n",
        "  return y_cap\n",
        "#calc_y_pred(initialise(2),3)\n",
        "\n",
        "# y = w*x + b"
      ],
      "metadata": {
        "id": "34cQ3eSZM04e"
      },
      "execution_count": 15,
      "outputs": []
    },
    {
      "cell_type": "markdown",
      "source": [
        "# Calculating the cost function"
      ],
      "metadata": {
        "id": "1s42cbHaQMHA"
      }
    },
    {
      "cell_type": "code",
      "source": [
        "# calculating the cost function\n",
        "\n",
        "def calc_cost(w,y_cap,Y):\n",
        "  n = Y.shape[1]\n",
        "  # return the total number of data items\n",
        "\n",
        "  # cost = (summation of (y - y_pred)^2)/n\n",
        "  # mean squared error\n",
        "  cost = 1/n * np.sum(np.power(Y - y_cap,2))\n",
        "  return cost\n"
      ],
      "metadata": {
        "id": "tY9mnTMmOwUr"
      },
      "execution_count": 16,
      "outputs": []
    },
    {
      "cell_type": "markdown",
      "source": [
        "# Gradient & gradient descent"
      ],
      "metadata": {
        "id": "XpIFZe3XQTbR"
      }
    },
    {
      "cell_type": "code",
      "source": [
        "# calculating gradient\n",
        "def calc_gradient(w,X,Y):\n",
        "  n = X.shape[1]\n",
        "  y_cap = calc_y_pred(w, X)\n",
        "\n",
        "  gradient = 2/n * np.dot(X, (Y-y_cap).T)\n",
        "\n",
        "  return gradient\n"
      ],
      "metadata": {
        "id": "fz0mfUP6QRTk"
      },
      "execution_count": 18,
      "outputs": []
    },
    {
      "cell_type": "code",
      "source": [
        "# caluclating the gradient descent\n",
        "\n",
        "def gradient_descent(X,Y,alpha,epochs,details):\n",
        "  cost =[]\n",
        "  w = initialise(X.shape[0])\n",
        "  for i in range(epochs):\n",
        "    y_cap = calc_y_pred(w,X)\n",
        "    cost = calc_cost(w,y_cap,Y)\n",
        "    grad = calc_gradient(w,X,Y)\n",
        "    # updating the parameter\n",
        "    w = w - alpha * grad\n",
        "\n",
        "    return w, cost"
      ],
      "metadata": {
        "id": "j4e2og4bTO14"
      },
      "execution_count": 19,
      "outputs": []
    },
    {
      "cell_type": "markdown",
      "source": [
        "# model"
      ],
      "metadata": {
        "id": "h29F9MfRVQtF"
      }
    },
    {
      "cell_type": "code",
      "source": [
        "def model(X,Y,alpha,epochs,details):\n",
        "  # shape of X,Y: (1, n)\n",
        "\n",
        "  ones = np.ones(1,X.shape[1])\n",
        "  X = np.append(ones, X, axis =0)\n",
        "\n",
        "  w, cost = gradient_descent(X,Y,alpha,epochs,details)\n",
        "\n",
        "  d = {\n",
        "      'Intercept' :   w[0,0], # 1st row 1st col\n",
        "         'Slope'  :   w[1,0], # 2nd row 1st col\n",
        "         'Cost'   :   cost\n",
        "  }\n",
        "  return d\n"
      ],
      "metadata": {
        "id": "NDaksgxnVWeY"
      },
      "execution_count": 21,
      "outputs": []
    }
  ]
}