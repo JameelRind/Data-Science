{
 "cells": [
  {
   "cell_type": "code",
   "execution_count": null,
   "id": "f7e62b30",
   "metadata": {},
   "outputs": [],
   "source": [
    "import numpy as np\n",
    "import pandas as pd\n",
    "import matplotlib.pyplot as plt\n",
    "import seaborn as sns"
   ]
  },
  {
   "cell_type": "code",
   "execution_count": null,
   "id": "d386260e",
   "metadata": {},
   "outputs": [],
   "source": [
    "file=pd.read_csv(r\"C:\\Users\\Hp\\Downloads\\Data_Train.csv\")\n",
    "file"
   ]
  },
  {
   "cell_type": "code",
   "execution_count": null,
   "id": "044d3dc6",
   "metadata": {},
   "outputs": [],
   "source": [
    "# file.describe"
   ]
  },
  {
   "cell_type": "code",
   "execution_count": null,
   "id": "003c3aed",
   "metadata": {},
   "outputs": [],
   "source": [
    "file.info()"
   ]
  },
  {
   "cell_type": "code",
   "execution_count": null,
   "id": "4e0deecc",
   "metadata": {},
   "outputs": [],
   "source": [
    "file.nunique()"
   ]
  },
  {
   "cell_type": "code",
   "execution_count": null,
   "id": "483e4286",
   "metadata": {},
   "outputs": [],
   "source": [
    "file[\"Airline\"].unique()"
   ]
  },
  {
   "cell_type": "code",
   "execution_count": null,
   "id": "8000c0fc",
   "metadata": {},
   "outputs": [],
   "source": [
    "file[\"Source\"].unique()"
   ]
  },
  {
   "cell_type": "code",
   "execution_count": null,
   "id": "bf61642d",
   "metadata": {},
   "outputs": [],
   "source": [
    "file[\"Destination\"].unique()"
   ]
  },
  {
   "cell_type": "code",
   "execution_count": null,
   "id": "e874b28d",
   "metadata": {},
   "outputs": [],
   "source": [
    "file[\"Total_Stops\"].unique()"
   ]
  },
  {
   "cell_type": "code",
   "execution_count": null,
   "id": "5a7e5c65",
   "metadata": {},
   "outputs": [],
   "source": [
    "file[\"Additional_Info\"].unique()"
   ]
  },
  {
   "cell_type": "code",
   "execution_count": null,
   "id": "c5716407",
   "metadata": {},
   "outputs": [],
   "source": [
    "file.isnull().sum()"
   ]
  },
  {
   "cell_type": "code",
   "execution_count": null,
   "id": "63b4a672",
   "metadata": {},
   "outputs": [],
   "source": [
    "file=file.dropna()"
   ]
  },
  {
   "cell_type": "code",
   "execution_count": null,
   "id": "e63a1104",
   "metadata": {},
   "outputs": [],
   "source": [
    "file.isnull().sum()"
   ]
  },
  {
   "cell_type": "code",
   "execution_count": null,
   "id": "d8b1ce47",
   "metadata": {},
   "outputs": [],
   "source": [
    "file.duplicated().sum()\n",
    "# file.drop_duplicates(inplace=True)"
   ]
  },
  {
   "cell_type": "code",
   "execution_count": null,
   "id": "7794155b",
   "metadata": {},
   "outputs": [],
   "source": [
    "file.duplicated().sum()"
   ]
  },
  {
   "cell_type": "code",
   "execution_count": null,
   "id": "264d99a4",
   "metadata": {},
   "outputs": [],
   "source": [
    "plt.figure(dpi=100)\n",
    "sns.countplot(x='Source', data = file)"
   ]
  },
  {
   "cell_type": "code",
   "execution_count": null,
   "id": "fcd3eb76",
   "metadata": {},
   "outputs": [],
   "source": [
    "plt.figure(dpi=100)\n",
    "sns.countplot(x=\"Destination\", data=file)"
   ]
  },
  {
   "cell_type": "code",
   "execution_count": null,
   "id": "a74764ab",
   "metadata": {},
   "outputs": [],
   "source": [
    "plt.figure(dpi=100)\n",
    "sns.countplot(x=\"Destination\", hue=\"Total_Stops\",data=file)\n",
    "# this show much flights going new dehli or banglore or cochin or colkata or dehli or hyderabad and with how much stops they reach destination"
   ]
  },
  {
   "cell_type": "code",
   "execution_count": null,
   "id": "e257b8ca",
   "metadata": {},
   "outputs": [],
   "source": [
    "plt.figure(dpi=100)\n",
    "sns.countplot(x=\"Destination\",hue=\"Additional_Info\", data=file)"
   ]
  },
  {
   "cell_type": "code",
   "execution_count": null,
   "id": "ba45f741",
   "metadata": {
    "scrolled": true
   },
   "outputs": [],
   "source": [
    "plt.figure(dpi=100)\n",
    "sns.countplot(x=\"Airline\",data=file)\n",
    "# plt.legend(title='Company', fontsize=20)\n",
    "\n",
    "# plt.title('Sales Data', fontsize=20)\n",
    "plt.tick_params(axis='both', labelsize=10)\n",
    "p=plt.xticks(rotation=70)"
   ]
  },
  {
   "cell_type": "code",
   "execution_count": null,
   "id": "73225157",
   "metadata": {},
   "outputs": [],
   "source": [
    "plt.figure(dpi=100)\n",
    "sns.countplot(x=\"Date_of_Journey\", data=file)\n",
    "plt.tick_params(axis='both', labelsize=8)\n",
    "p=plt.xticks(rotation=90)"
   ]
  },
  {
   "cell_type": "code",
   "execution_count": null,
   "id": "01f8f937",
   "metadata": {},
   "outputs": [],
   "source": [
    "plot=file[(file.Destination==\"Banglore\") & (file.Total_Stops==\"non-stop\")]"
   ]
  },
  {
   "cell_type": "code",
   "execution_count": null,
   "id": "32fe7ce2",
   "metadata": {},
   "outputs": [],
   "source": [
    "plot={}\n",
    "for i in file.Destination.unique():\n",
    "    plot[i]=file[(file.Destination==i)]"
   ]
  },
  {
   "cell_type": "code",
   "execution_count": null,
   "id": "8c24c8bb",
   "metadata": {},
   "outputs": [],
   "source": [
    "plot_banglore=plot[\"Banglore\"]\n",
    "plot_New_Delhi=plot[\"New Delhi\"]\n",
    "plot_Delhi=plot[\"Delhi\"]\n",
    "plot_Cochin=plot[\"Cochin\"]\n",
    "plot_Kolkata=plot[\"Kolkata\"]\n",
    "plot_Hyderabad=plot[\"Hyderabad\"]"
   ]
  },
  {
   "cell_type": "code",
   "execution_count": null,
   "id": "e2d41ae8",
   "metadata": {},
   "outputs": [],
   "source": [
    "plt.figure(dpi=100)\n",
    "sns.countplot(x=\"Airline\", data=plot_New_Delhi)\n",
    "plt.tick_params(labelsize=10)\n",
    "plt.legend(\"Number of air Lines Going to New Dehli\")\n",
    "p=plt.xticks(rotation=70)\n",
    "plt.xlabel(\"Name of Airlines Going to New Dehli \")"
   ]
  },
  {
   "cell_type": "code",
   "execution_count": null,
   "id": "c2f0c0c1",
   "metadata": {},
   "outputs": [],
   "source": [
    "plt.figure(dpi=100)\n",
    "sns.countplot(x=\"Airline\", data=plot_banglore)\n",
    "plt.tick_params(axis=\"both\", labelsize=10)\n",
    "p=plt.xticks(rotation=40)\n",
    "plt.xlabel(\"Number of Airlines going to banglore\")\n",
    "# plot_banglore"
   ]
  },
  {
   "cell_type": "code",
   "execution_count": null,
   "id": "1cf13f39",
   "metadata": {},
   "outputs": [],
   "source": [
    "plt.figure(dpi=100)\n",
    "sns.countplot(x=\"Airline\", data=plot_Delhi)\n",
    "plt.xlabel(\"Airlines going to Dehli\")\n",
    "plt.xticks(rotation=70)\n",
    "plt.tick_params(axis=\"both\", labelsize=10)"
   ]
  },
  {
   "cell_type": "code",
   "execution_count": null,
   "id": "fd33ce1c",
   "metadata": {},
   "outputs": [],
   "source": [
    "plt.figure(dpi=100)\n",
    "sns.countplot(x=\"Airline\",data=plot_Cochin)\n",
    "plt.xlabel(\" Airlines going to cochin\")\n",
    "plt.tick_params(axis=\"both\",labelsize=10)\n",
    "p=plt.xticks(rotation=70)"
   ]
  },
  {
   "cell_type": "code",
   "execution_count": null,
   "id": "daad6ac5",
   "metadata": {},
   "outputs": [],
   "source": [
    "plt.figure(dpi=100)\n",
    "sns.countplot(x=\"Airline\", data=plot_Kolkata)\n",
    "plt.tick_params(labelsize=10)\n",
    "p=plt.xticks(rotation=70)\n",
    "plt.xlabel(\"Airlines going to kolkata\")"
   ]
  },
  {
   "cell_type": "code",
   "execution_count": null,
   "id": "e2eb5059",
   "metadata": {},
   "outputs": [],
   "source": [
    "plt.figure(dpi=100)\n",
    "sns.countplot(x=\"Airline\",data=plot_Hyderabad)"
   ]
  },
  {
   "cell_type": "code",
   "execution_count": null,
   "id": "794133d0",
   "metadata": {},
   "outputs": [],
   "source": [
    "# print(\"Percentage of Airlines Going to Kolkata\")\n",
    "dta={}\n",
    "for i in file.Destination.unique():\n",
    "    dta[i]=file[(file.Destination==i)].count()[0]\n",
    "dta[\"Cochin\"]\n",
    "file.count()[0]"
   ]
  },
  {
   "cell_type": "code",
   "execution_count": null,
   "id": "c235b21b",
   "metadata": {},
   "outputs": [],
   "source": [
    "print(\"% for Airlines going to Banglore\",dta[\"Banglore\"]/file.count()[0]*100)\n",
    "print(\"% for Airlines going to New Delhi\",dta[\"New Delhi\"]/file.count()[0]*100)\n",
    "print(\"% for Airlines going to Cochin\",dta[\"Cochin\"]/file.count()[0]*100)\n",
    "print(\"% for Airlines going to Kolkata\",dta[\"Kolkata\"]/file.count()[0]*100)\n",
    "print(\"% for Airlines going to Delhi\",dta[\"Delhi\"]/file.count()[0]*100)\n",
    "print(\"% for Airlines going to Delhi\",dta[\"Hyderabad\"]/file.count()[0]*100)"
   ]
  },
  {
   "cell_type": "code",
   "execution_count": null,
   "id": "47173d79",
   "metadata": {},
   "outputs": [],
   "source": [
    "dta={}\n",
    "for i in file.Total_Stops.unique():\n",
    "    dta[i]=file[(file.Total_Stops==i)].count()[0]\n"
   ]
  },
  {
   "cell_type": "code",
   "execution_count": null,
   "id": "ef5d7e0a",
   "metadata": {},
   "outputs": [],
   "source": [
    "print(\"% of Airlines  Non-Stop:: \", dta[\"non-stop\"]/file.count()[0]*100)\n",
    "print(\"% of Airlines  1 stop:: \", dta[\"1 stop\"]/file.count()[0]*100)\n",
    "print(\"% of Airlines  2 stops:: \", dta[\"2 stops\"]/file.count()[0]*100)\n",
    "print(\"% of Airlines  3 stops:: \", dta[\"3 stops\"]/file.count()[0]*100)\n",
    "print(\"% of Airlines  4 stops:: \", dta[\"4 stops\"]/file.count()[0]*100)"
   ]
  },
  {
   "cell_type": "code",
   "execution_count": null,
   "id": "2da2f935",
   "metadata": {},
   "outputs": [],
   "source": [
    "# its average Fare vs AirLine\n",
    "plt.figure(dpi=100)\n",
    "sns.barplot(x=\"Airline\", y=\"Price\", data=file)\n",
    "plt.tick_params(labelsize=10)\n",
    "p=plt.xticks(rotation=90)\n",
    "# barplot is used to show relation between category and value categories should be few 1 to 10 and values may very\n",
    "# x will take categories and y will take values ... X will be kept same as it is given y will be average of it\n",
    "# it will sum all values of catorgy and divide it with no of rows with same catogory"
   ]
  },
  {
   "cell_type": "code",
   "execution_count": null,
   "id": "ad00a04d",
   "metadata": {},
   "outputs": [],
   "source": [
    "for i in file.Airline.unique():\n",
    "    print(\"Average price per flight of \"+i+\" ::::::::\",sum(file[(file.Airline==i)][\"Price\"])/file[(file.Airline==i)].count()[0])"
   ]
  },
  {
   "cell_type": "code",
   "execution_count": null,
   "id": "868c6051",
   "metadata": {},
   "outputs": [],
   "source": [
    "plt.figure(dpi=100)\n",
    "sns.lineplot(x=\"Airline\", y=\"Price\" ,data=file)\n",
    "p=plt.xticks(rotation=90)\n",
    "# line plot is same as barplot instead their is line used instead of bars"
   ]
  },
  {
   "cell_type": "code",
   "execution_count": null,
   "id": "fadbfc38",
   "metadata": {},
   "outputs": [],
   "source": [
    "plt.figure(dpi=100)\n",
    "plt.scatter(file[\"Airline\"],file[\"Price\"])\n",
    "p=plt.xticks(rotation=90)\n",
    "# this show an individual row value of Price against Airline"
   ]
  },
  {
   "cell_type": "code",
   "execution_count": null,
   "id": "15720463",
   "metadata": {},
   "outputs": [],
   "source": [
    "file[(file.Airline==\"Jet Airways Business\")]"
   ]
  },
  {
   "cell_type": "code",
   "execution_count": null,
   "id": "78b85c55",
   "metadata": {},
   "outputs": [],
   "source": [
    "# box plots are used to show how many values are showing much variance from other values like age of man 100 if thier is person with 400 then its called outlier\n",
    "# its used to find outliers in the data\n",
    "plt.figure(dpi=100)\n",
    "sns.boxplot(y=\"Price\",data=file)"
   ]
  },
  {
   "cell_type": "code",
   "execution_count": null,
   "id": "caa2aa0a",
   "metadata": {},
   "outputs": [],
   "source": [
    "plt.figure(dpi=100)\n",
    "sns.violinplot(y=\"Price\", data=file)"
   ]
  },
  {
   "cell_type": "code",
   "execution_count": null,
   "id": "fc32c23d",
   "metadata": {},
   "outputs": [],
   "source": [
    "file.nunique()"
   ]
  },
  {
   "cell_type": "code",
   "execution_count": null,
   "id": "af3bebba",
   "metadata": {},
   "outputs": [],
   "source": [
    "file.isnull().sum()"
   ]
  },
  {
   "cell_type": "code",
   "execution_count": null,
   "id": "5a7d747e",
   "metadata": {},
   "outputs": [],
   "source": [
    "def date_convert(obj):\n",
    "    val=\"\"\n",
    "    for i in obj:\n",
    "        if i.isdigit():\n",
    "           val=val+i \n",
    "#         print(\"\\n\")\n",
    "#     print(val)\n",
    "    val=int(val)\n",
    "    return val"
   ]
  },
  {
   "cell_type": "code",
   "execution_count": null,
   "id": "f75f1848",
   "metadata": {},
   "outputs": [],
   "source": [
    "file[\"Duration\"]=file[\"Duration\"].apply(date_convert)"
   ]
  },
  {
   "cell_type": "code",
   "execution_count": null,
   "id": "de1d956d",
   "metadata": {},
   "outputs": [],
   "source": [
    "file[\"Dep_Time\"]=file[\"Dep_Time\"].apply(date_convert)"
   ]
  },
  {
   "cell_type": "code",
   "execution_count": null,
   "id": "714f64cc",
   "metadata": {},
   "outputs": [],
   "source": [
    "file[\"Date_of_Journey\"]=file[\"Date_of_Journey\"].apply(date_convert)"
   ]
  },
  {
   "cell_type": "code",
   "execution_count": null,
   "id": "a202eb6e",
   "metadata": {},
   "outputs": [],
   "source": [
    "file"
   ]
  },
  {
   "cell_type": "markdown",
   "id": "c974d9d5",
   "metadata": {},
   "source": [
    "# "
   ]
  },
  {
   "cell_type": "code",
   "execution_count": null,
   "id": "4219d034",
   "metadata": {},
   "outputs": [],
   "source": [
    "hot=pd.get_dummies(file,columns=[\"Airline\",\"Source\",\"Destination\",\"Total_Stops\"])\n",
    "file2=hot.iloc[:,5:]\n",
    "file2[\"Duration\"]=file[\"Duration\"]\n",
    "file2[\"Dep_Time\"]=file[\"Dep_Time\"]\n",
    "file2[\"Date_of_Journey\"]=file[\"Date_of_Journey\"]\n",
    "\n",
    "# file2[\"Duration\"]=file[\"Duration\"]"
   ]
  },
  {
   "cell_type": "code",
   "execution_count": null,
   "id": "6ec1f2ba",
   "metadata": {},
   "outputs": [],
   "source": [
    "X=file2.iloc[:,1:]\n",
    "X"
   ]
  },
  {
   "cell_type": "code",
   "execution_count": null,
   "id": "7155d95a",
   "metadata": {},
   "outputs": [],
   "source": [
    "Y=file2.iloc[:,1:2]\n",
    "Y"
   ]
  },
  {
   "cell_type": "code",
   "execution_count": null,
   "id": "ca84a2f6",
   "metadata": {},
   "outputs": [],
   "source": [
    "y_test"
   ]
  },
  {
   "cell_type": "code",
   "execution_count": null,
   "id": "66232dbb",
   "metadata": {},
   "outputs": [],
   "source": [
    "# split\n",
    "# apply linearregression model\n",
    "# get params\n",
    "# coef\n",
    "# intercept\n",
    "# score\n",
    "# predict"
   ]
  },
  {
   "cell_type": "code",
   "execution_count": null,
   "id": "c1e7c3f9",
   "metadata": {},
   "outputs": [],
   "source": [
    "from sklearn.model_selection import train_test_split\n",
    "x_train,x_test,y_train,y_test=train_test_split(X,Y,test_size=0.2)"
   ]
  },
  {
   "cell_type": "code",
   "execution_count": null,
   "id": "5dcd7902",
   "metadata": {},
   "outputs": [],
   "source": [
    "y_test.shape"
   ]
  },
  {
   "cell_type": "code",
   "execution_count": null,
   "id": "eb69e2f0",
   "metadata": {},
   "outputs": [],
   "source": [
    "from sklearn.linear_model import LinearRegression\n",
    "model=LinearRegression()\n",
    "model.fit(x_train,y_train)"
   ]
  },
  {
   "cell_type": "code",
   "execution_count": null,
   "id": "a3041d3a",
   "metadata": {},
   "outputs": [],
   "source": [
    "model.get_params()"
   ]
  },
  {
   "cell_type": "code",
   "execution_count": null,
   "id": "ef1111d1",
   "metadata": {},
   "outputs": [],
   "source": [
    "model.coef_"
   ]
  },
  {
   "cell_type": "code",
   "execution_count": null,
   "id": "5f0c2cae",
   "metadata": {},
   "outputs": [],
   "source": [
    "model.intercept_"
   ]
  },
  {
   "cell_type": "code",
   "execution_count": null,
   "id": "132afe9d",
   "metadata": {},
   "outputs": [],
   "source": [
    "df=pd.DataFrame(model.predict(x_test))\n",
    "df.head(-5)"
   ]
  },
  {
   "cell_type": "code",
   "execution_count": null,
   "id": "42952539",
   "metadata": {},
   "outputs": [],
   "source": [
    "y_test.head(-5)"
   ]
  },
  {
   "cell_type": "code",
   "execution_count": null,
   "id": "78e85ec7",
   "metadata": {},
   "outputs": [],
   "source": [
    "model.score(x_train,y_train)*100"
   ]
  },
  {
   "cell_type": "code",
   "execution_count": null,
   "id": "54713148",
   "metadata": {},
   "outputs": [],
   "source": [
    "model.score(x_test,y_test)*100"
   ]
  }
 ],
 "metadata": {
  "kernelspec": {
   "display_name": "Python 3 (ipykernel)",
   "language": "python",
   "name": "python3"
  },
  "language_info": {
   "codemirror_mode": {
    "name": "ipython",
    "version": 3
   },
   "file_extension": ".py",
   "mimetype": "text/x-python",
   "name": "python",
   "nbconvert_exporter": "python",
   "pygments_lexer": "ipython3",
   "version": "3.9.12"
  }
 },
 "nbformat": 4,
 "nbformat_minor": 5
}
